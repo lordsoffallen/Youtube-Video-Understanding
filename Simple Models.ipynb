{
 "cells": [
  {
   "cell_type": "code",
   "execution_count": 1,
   "metadata": {},
   "outputs": [],
   "source": [
    "from utils.utils import generator\n",
    "import tensorflow as tf\n",
    "import glob"
   ]
  },
  {
   "cell_type": "code",
   "execution_count": 2,
   "metadata": {},
   "outputs": [],
   "source": [
    "# Get the list of file names\n",
    "files = glob.glob('video/train*.tfrecord')\n",
    "val = glob.glob('video/val*.tfrecord')"
   ]
  },
  {
   "cell_type": "code",
   "execution_count": 3,
   "metadata": {},
   "outputs": [
    {
     "name": "stdout",
     "output_type": "stream",
     "text": [
      "Steps_per_epoch should be length of data / batch size.\n",
      "In this case, we can choose : 1015 / 32 (default batch_size) =~ 32\n"
     ]
    }
   ],
   "source": [
    "file_lens = [len([1 for example in tf.python_io.tf_record_iterator(files[0])]), \n",
    "             len([1 for example in tf.python_io.tf_record_iterator(files[1])])]\n",
    "print('Steps_per_epoch should be length of data / batch size.')\n",
    "print('In this case, we can choose : {} / {} (default batch_size) =~ {}'.format(min(file_lens), 32, round(min(file_lens)/32)))"
   ]
  },
  {
   "cell_type": "code",
   "execution_count": 4,
   "metadata": {},
   "outputs": [],
   "source": [
    "def simple_model(input_shape, num_classes=3862):\n",
    "    model = tf.keras.Sequential()\n",
    "    model.add(tf.keras.layers.Dense(1024, activation='relu', input_shape=input_shape))\n",
    "    model.add(tf.keras.layers.Dense(num_classes, activation='sigmoid'))\n",
    "    return model"
   ]
  },
  {
   "cell_type": "code",
   "execution_count": 5,
   "metadata": {},
   "outputs": [
    {
     "name": "stdout",
     "output_type": "stream",
     "text": [
      "_________________________________________________________________\n",
      "Layer (type)                 Output Shape              Param #   \n",
      "=================================================================\n",
      "dense (Dense)                (None, 1024)              1049600   \n",
      "_________________________________________________________________\n",
      "dense_1 (Dense)              (None, 3862)              3958550   \n",
      "=================================================================\n",
      "Total params: 5,008,150\n",
      "Trainable params: 5,008,150\n",
      "Non-trainable params: 0\n",
      "_________________________________________________________________\n"
     ]
    }
   ],
   "source": [
    "model = simple_model((1024, ))  # rgb feature size\n",
    "model.compile(optimizer='adam', loss='binary_crossentropy', metrics=['top_k_categorical_accuracy'])\n",
    "model.summary()"
   ]
  },
  {
   "cell_type": "code",
   "execution_count": 6,
   "metadata": {},
   "outputs": [
    {
     "name": "stdout",
     "output_type": "stream",
     "text": [
      "Epoch 1/10\n",
      "WARNING:tensorflow:From /home/fazil/GitHub/youtube-video-understanding/utils/utils.py:138: sparse_to_dense (from tensorflow.python.ops.sparse_ops) is deprecated and will be removed in a future version.\n",
      "Instructions for updating:\n",
      "Create a `tf.sparse.SparseTensor` and use `tf.sparse.to_dense` instead.\n",
      "30/30 [==============================] - 10s 331ms/step - loss: 0.2202 - top_k_categorical_accuracy: 0.1906 - val_loss: 0.0383 - val_top_k_categorical_accuracy: 0.4492\n",
      "Epoch 2/10\n",
      "30/30 [==============================] - 2s 79ms/step - loss: 0.0209 - top_k_categorical_accuracy: 0.4677 - val_loss: 0.0140 - val_top_k_categorical_accuracy: 0.5000\n",
      "Epoch 3/10\n",
      "30/30 [==============================] - 2s 80ms/step - loss: 0.0095 - top_k_categorical_accuracy: 0.5000 - val_loss: 0.0109 - val_top_k_categorical_accuracy: 0.5352\n",
      "Epoch 4/10\n",
      "30/30 [==============================] - 2s 80ms/step - loss: 0.0070 - top_k_categorical_accuracy: 0.5729 - val_loss: 0.0089 - val_top_k_categorical_accuracy: 0.5859\n",
      "Epoch 5/10\n",
      "30/30 [==============================] - 2s 80ms/step - loss: 0.0058 - top_k_categorical_accuracy: 0.5917 - val_loss: 0.0079 - val_top_k_categorical_accuracy: 0.5898\n",
      "Epoch 6/10\n",
      "30/30 [==============================] - 2s 80ms/step - loss: 0.0052 - top_k_categorical_accuracy: 0.6406 - val_loss: 0.0075 - val_top_k_categorical_accuracy: 0.6211\n",
      "Epoch 7/10\n",
      "30/30 [==============================] - 2s 80ms/step - loss: 0.0046 - top_k_categorical_accuracy: 0.6802 - val_loss: 0.0065 - val_top_k_categorical_accuracy: 0.7305\n",
      "Epoch 8/10\n",
      "30/30 [==============================] - 2s 81ms/step - loss: 0.0044 - top_k_categorical_accuracy: 0.7240 - val_loss: 0.0073 - val_top_k_categorical_accuracy: 0.7344\n",
      "Epoch 9/10\n",
      "30/30 [==============================] - 2s 80ms/step - loss: 0.0039 - top_k_categorical_accuracy: 0.7354 - val_loss: 0.0063 - val_top_k_categorical_accuracy: 0.7070\n",
      "Epoch 10/10\n",
      "30/30 [==============================] - 2s 83ms/step - loss: 0.0037 - top_k_categorical_accuracy: 0.7500 - val_loss: 0.0061 - val_top_k_categorical_accuracy: 0.7578\n"
     ]
    },
    {
     "data": {
      "text/plain": [
       "<tensorflow.python.keras.callbacks.History at 0x7ff7b5068198>"
      ]
     },
     "execution_count": 6,
     "metadata": {},
     "output_type": "execute_result"
    }
   ],
   "source": [
    "train_gen = generator(files, sel='rgb')\n",
    "val_gen = generator(val, sel='rgb')\n",
    "model.fit_generator(generator=train_gen, steps_per_epoch=30, epochs=10, \n",
    "                    validation_data=val_gen, validation_steps=8)"
   ]
  },
  {
   "cell_type": "code",
   "execution_count": 7,
   "metadata": {},
   "outputs": [],
   "source": [
    "def cnn_model(input_shape, num_classes=3862):\n",
    "    model = tf.keras.Sequential()\n",
    "    model.add(tf.keras.layers.Reshape((1, input_shape[0]), input_shape=input_shape))\n",
    "    model.add(tf.keras.layers.Convolution1D(256, 3, padding='same', activation='relu'))\n",
    "    model.add(tf.keras.layers.Flatten())\n",
    "    model.add(tf.keras.layers.Dense(num_classes, activation='sigmoid'))\n",
    "    return model"
   ]
  },
  {
   "cell_type": "code",
   "execution_count": 8,
   "metadata": {},
   "outputs": [
    {
     "name": "stdout",
     "output_type": "stream",
     "text": [
      "_________________________________________________________________\n",
      "Layer (type)                 Output Shape              Param #   \n",
      "=================================================================\n",
      "reshape (Reshape)            (None, 1, 1024)           0         \n",
      "_________________________________________________________________\n",
      "conv1d (Conv1D)              (None, 1, 256)            786688    \n",
      "_________________________________________________________________\n",
      "flatten (Flatten)            (None, 256)               0         \n",
      "_________________________________________________________________\n",
      "dense_2 (Dense)              (None, 3862)              992534    \n",
      "=================================================================\n",
      "Total params: 1,779,222\n",
      "Trainable params: 1,779,222\n",
      "Non-trainable params: 0\n",
      "_________________________________________________________________\n"
     ]
    }
   ],
   "source": [
    "model = cnn_model((1024, ))  # rgb feature size\n",
    "model.compile(optimizer='adam', loss='binary_crossentropy', metrics=['top_k_categorical_accuracy'])\n",
    "model.summary()"
   ]
  },
  {
   "cell_type": "code",
   "execution_count": 9,
   "metadata": {},
   "outputs": [
    {
     "name": "stdout",
     "output_type": "stream",
     "text": [
      "Epoch 1/10\n",
      "30/30 [==============================] - 3s 97ms/step - loss: 0.5003 - top_k_categorical_accuracy: 0.0031 - val_loss: 0.2913 - val_top_k_categorical_accuracy: 0.0312\n",
      "Epoch 2/10\n",
      "30/30 [==============================] - 2s 59ms/step - loss: 0.1707 - top_k_categorical_accuracy: 0.2417 - val_loss: 0.1062 - val_top_k_categorical_accuracy: 0.3711\n",
      "Epoch 3/10\n",
      "30/30 [==============================] - 2s 60ms/step - loss: 0.0575 - top_k_categorical_accuracy: 0.4521 - val_loss: 0.0565 - val_top_k_categorical_accuracy: 0.4062\n",
      "Epoch 4/10\n",
      "30/30 [==============================] - 2s 59ms/step - loss: 0.0248 - top_k_categorical_accuracy: 0.4906 - val_loss: 0.0376 - val_top_k_categorical_accuracy: 0.4375\n",
      "Epoch 5/10\n",
      "30/30 [==============================] - 2s 60ms/step - loss: 0.0158 - top_k_categorical_accuracy: 0.4781 - val_loss: 0.0265 - val_top_k_categorical_accuracy: 0.4688\n",
      "Epoch 6/10\n",
      "30/30 [==============================] - 2s 63ms/step - loss: 0.0118 - top_k_categorical_accuracy: 0.4781 - val_loss: 0.0250 - val_top_k_categorical_accuracy: 0.5156\n",
      "Epoch 7/10\n",
      "30/30 [==============================] - 2s 59ms/step - loss: 0.0097 - top_k_categorical_accuracy: 0.5219 - val_loss: 0.0181 - val_top_k_categorical_accuracy: 0.5312\n",
      "Epoch 8/10\n",
      "30/30 [==============================] - 2s 59ms/step - loss: 0.0079 - top_k_categorical_accuracy: 0.5385 - val_loss: 0.0169 - val_top_k_categorical_accuracy: 0.5430\n",
      "Epoch 9/10\n",
      "30/30 [==============================] - 2s 59ms/step - loss: 0.0072 - top_k_categorical_accuracy: 0.5698 - val_loss: 0.0179 - val_top_k_categorical_accuracy: 0.6055\n",
      "Epoch 10/10\n",
      "30/30 [==============================] - 2s 60ms/step - loss: 0.0066 - top_k_categorical_accuracy: 0.5583 - val_loss: 0.0149 - val_top_k_categorical_accuracy: 0.5664\n"
     ]
    },
    {
     "data": {
      "text/plain": [
       "<tensorflow.python.keras.callbacks.History at 0x7ff7980c9e80>"
      ]
     },
     "execution_count": 9,
     "metadata": {},
     "output_type": "execute_result"
    }
   ],
   "source": [
    "train_gen = generator(files, sel='rgb')\n",
    "val_gen = generator(val, sel='rgb')\n",
    "model.fit_generator(generator=train_gen, steps_per_epoch=30, epochs=10, \n",
    "                    validation_data=val_gen, validation_steps=8)"
   ]
  },
  {
   "cell_type": "code",
   "execution_count": 10,
   "metadata": {},
   "outputs": [],
   "source": [
    "def lstm_model(input_shape, num_classes=3862):\n",
    "    model = tf.keras.Sequential()    \n",
    "    model.add(tf.keras.layers.Reshape((1, input_shape[0]), input_shape=input_shape))\n",
    "    model.add(tf.keras.layers.LSTM(128))\n",
    "    model.add(tf.keras.layers.Dense(num_classes, activation='sigmoid'))\n",
    "    return model"
   ]
  },
  {
   "cell_type": "code",
   "execution_count": 11,
   "metadata": {},
   "outputs": [
    {
     "name": "stdout",
     "output_type": "stream",
     "text": [
      "_________________________________________________________________\n",
      "Layer (type)                 Output Shape              Param #   \n",
      "=================================================================\n",
      "reshape_1 (Reshape)          (None, 1, 1024)           0         \n",
      "_________________________________________________________________\n",
      "lstm (LSTM)                  (None, 128)               590336    \n",
      "_________________________________________________________________\n",
      "dense_3 (Dense)              (None, 3862)              498198    \n",
      "=================================================================\n",
      "Total params: 1,088,534\n",
      "Trainable params: 1,088,534\n",
      "Non-trainable params: 0\n",
      "_________________________________________________________________\n"
     ]
    }
   ],
   "source": [
    "model = lstm_model((1024,))  # rgb feature size\n",
    "model.compile(optimizer='adam', loss='binary_crossentropy', metrics=['top_k_categorical_accuracy'])\n",
    "model.summary()"
   ]
  },
  {
   "cell_type": "code",
   "execution_count": 12,
   "metadata": {},
   "outputs": [
    {
     "name": "stdout",
     "output_type": "stream",
     "text": [
      "Epoch 1/10\n",
      "30/30 [==============================] - 3s 116ms/step - loss: 0.6849 - top_k_categorical_accuracy: 0.0021 - val_loss: 0.6729 - val_top_k_categorical_accuracy: 0.0000e+00\n",
      "Epoch 2/10\n",
      "30/30 [==============================] - 1s 39ms/step - loss: 0.6429 - top_k_categorical_accuracy: 0.0427 - val_loss: 0.6083 - val_top_k_categorical_accuracy: 0.1211\n",
      "Epoch 3/10\n",
      "30/30 [==============================] - 1s 39ms/step - loss: 0.5094 - top_k_categorical_accuracy: 0.2594 - val_loss: 0.4584 - val_top_k_categorical_accuracy: 0.3008\n",
      "Epoch 4/10\n",
      "30/30 [==============================] - 1s 39ms/step - loss: 0.3081 - top_k_categorical_accuracy: 0.4167 - val_loss: 0.3392 - val_top_k_categorical_accuracy: 0.4453\n",
      "Epoch 5/10\n",
      "30/30 [==============================] - 1s 39ms/step - loss: 0.1751 - top_k_categorical_accuracy: 0.4385 - val_loss: 0.2307 - val_top_k_categorical_accuracy: 0.4727\n",
      "Epoch 6/10\n",
      "30/30 [==============================] - 1s 41ms/step - loss: 0.1048 - top_k_categorical_accuracy: 0.4563 - val_loss: 0.1967 - val_top_k_categorical_accuracy: 0.4102\n",
      "Epoch 7/10\n",
      "30/30 [==============================] - 1s 39ms/step - loss: 0.0610 - top_k_categorical_accuracy: 0.4448 - val_loss: 0.1318 - val_top_k_categorical_accuracy: 0.4414\n",
      "Epoch 8/10\n",
      "30/30 [==============================] - 1s 39ms/step - loss: 0.0430 - top_k_categorical_accuracy: 0.4625 - val_loss: 0.1090 - val_top_k_categorical_accuracy: 0.4258\n",
      "Epoch 9/10\n",
      "30/30 [==============================] - 1s 39ms/step - loss: 0.0309 - top_k_categorical_accuracy: 0.4781 - val_loss: 0.1054 - val_top_k_categorical_accuracy: 0.4648\n",
      "Epoch 10/10\n",
      "30/30 [==============================] - 1s 40ms/step - loss: 0.0224 - top_k_categorical_accuracy: 0.4708 - val_loss: 0.0986 - val_top_k_categorical_accuracy: 0.4375\n"
     ]
    },
    {
     "data": {
      "text/plain": [
       "<tensorflow.python.keras.callbacks.History at 0x7ff7b4c51198>"
      ]
     },
     "execution_count": 12,
     "metadata": {},
     "output_type": "execute_result"
    }
   ],
   "source": [
    "train_gen = generator(files, sel='rgb')\n",
    "val_gen = generator(val, sel='rgb')\n",
    "model.fit_generator(generator=train_gen, steps_per_epoch=30, epochs=10, \n",
    "                    validation_data=val_gen, validation_steps=8)"
   ]
  },
  {
   "cell_type": "code",
   "execution_count": null,
   "metadata": {},
   "outputs": [],
   "source": []
  },
  {
   "cell_type": "code",
   "execution_count": null,
   "metadata": {},
   "outputs": [],
   "source": []
  }
 ],
 "metadata": {
  "kernelspec": {
   "display_name": "Python 3",
   "language": "python",
   "name": "python3"
  },
  "language_info": {
   "codemirror_mode": {
    "name": "ipython",
    "version": 3
   },
   "file_extension": ".py",
   "mimetype": "text/x-python",
   "name": "python",
   "nbconvert_exporter": "python",
   "pygments_lexer": "ipython3",
   "version": "3.6.8"
  }
 },
 "nbformat": 4,
 "nbformat_minor": 2
}
